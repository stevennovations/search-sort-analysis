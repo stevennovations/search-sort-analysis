{
 "cells": [
  {
   "cell_type": "markdown",
   "metadata": {},
   "source": [
    "# Analysis of Search and Sort Algorithms"
   ]
  },
  {
   "cell_type": "markdown",
   "metadata": {},
   "source": [
    "## Setting Up"
   ]
  },
  {
   "cell_type": "markdown",
   "metadata": {},
   "source": [
    "Import all required libararies such as numpy, pandas, and matplotlib"
   ]
  },
  {
   "cell_type": "code",
   "execution_count": 1,
   "metadata": {
    "collapsed": true
   },
   "outputs": [],
   "source": [
    "import numpy as np\n",
    "import pandas as pd\n",
    "import matplotlib.pyplot as plt"
   ]
  },
  {
   "cell_type": "markdown",
   "metadata": {},
   "source": [
    "Set up the frequency and columns for your data table"
   ]
  },
  {
   "cell_type": "code",
   "execution_count": 9,
   "metadata": {
    "collapsed": true
   },
   "outputs": [],
   "source": [
    "#Inserting frequency counter for each algorithm\n",
    "#columns for our dataframe\n",
    "\n",
    "frequency = 0\n",
    "columns = ['input_size', 'frequency', 'element_index']"
   ]
  },
  {
   "cell_type": "markdown",
   "metadata": {},
   "source": [
    "Linear Search is used on a collections of items. It relies on the technique of traversing a list from start to end by exploring properties of all the elements that are found on the way."
   ]
  },
  {
   "cell_type": "code",
   "execution_count": 10,
   "metadata": {
    "collapsed": true
   },
   "outputs": [],
   "source": [
    "#Add Data frame with 'Input_size' 'frequency' and 'element_index'\n",
    "\n",
    "df_linear = pd.DataFrame(columns=columns)\n",
    "df_linear = df_linear.fillna(0) # with 0s rather than NaNs"
   ]
  },
  {
   "cell_type": "code",
   "execution_count": 11,
   "metadata": {
    "collapsed": true
   },
   "outputs": [],
   "source": [
    "def linear_search(arr, n, x): \n",
    "\tglobal frequency\n",
    "\tfor i in range (0, n): \n",
    "\t\tfrequency = frequency + 1\n",
    "\t\tif (arr[i] == x): \n",
    "\t\t\treturn i\n",
    "\treturn -1"
   ]
  },
  {
   "cell_type": "code",
   "execution_count": 12,
   "metadata": {},
   "outputs": [
    {
     "name": "stdout",
     "output_type": "stream",
     "text": [
      "[ 14  36  75  99  68  44  40  76   5  37  32  86  22   4  77  39  62   3\n",
      "  45  12  75   8  46  83  43  76  42  50  69  49  66  51  33  27  11  39\n",
      "  47 100  28  16  88  56  10  47  44  63  21  34  70  25  52  28  97  94\n",
      "  44  84  71  68  36  65  63  10  82   2   5  71  54  85  15  49  20  19\n",
      "  95  45  83  90  13  96  33  91  62  38  64  49  98   1  68  80  41  80\n",
      "  97  66  65  97  51  52  34   7  52  63]\n",
      "Length of Input: 100\n",
      "Finding #: 43\n",
      "Element is present at index 24\n",
      "Frequency Count: 25\n",
      "[913 902 796  13 754 781 631 340 838 690 864 686 647 353 958 719 714 754\n",
      " 612 172 469  22 109 265 611  64 432 254 618 644 900 194 436 583 967  14\n",
      "  53 260 596 646 516 623 981 519 900 253 754 554 597 628 906 667 193 775\n",
      " 253 299 899 135 308 871 211  30 785 159 328 905 816 255 360 930 254 586\n",
      " 679 125  93 531   9 832 118 399 673 507 511 670 790 101 640 708 428 523\n",
      " 589 288 610 205 640 228 281 614 342 564 827 291 785 724 324 341 724 966\n",
      " 699  61  15 121 261 768 709 542 674 288 600 492 734 807 844 343 223 222\n",
      " 721 172 730 338 752 555  68 933  60 554 901 983 371 831 535 145 497 138\n",
      " 935 855 814 668 755 881  83 452 490  13 281 946 973 891  77 265 872 913\n",
      "  55 105   8 296 913   5 220 371 684 787 545 528  37 877 523 242 583 185\n",
      " 656 151 419 114  90 703  89 532 214 583 966 209 992 828 219 925 651 424\n",
      " 435 627 196 518 972 206 667 123 390 446 119 588 766 382 160  38 146 867\n",
      " 868 413 713 523 994 480  16 328  17 530 808 184  28 227 770 373  34 178\n",
      "  64 958 453  99 165 856 306 559 727 936 470 902 963 203 325 123 597 254\n",
      " 213 514 439 570 134 839 774 770 911 763 770 929 599 670 735 743 242 395\n",
      " 135 340 612  46 195 734 297 332 203 871  91 706 108 748 243 980 339 944\n",
      " 445 228  81 951 304 472 903 671 784  36 147 431 693 715 501 718 692 364\n",
      " 702 559 647 989 576   6  19  36 610 621 141 187 353 458 129 463 284 201\n",
      " 864 279 151 646  95 806 956 850 639 274 219 309  19 381 264 301 866  26\n",
      " 246 697 613 567  86 284 197 338 908 593 855 622 632 522 956 434 343 295\n",
      " 755 839 510 836 356  96 861 769 275 866 564 907 108 273 415 783 360  86\n",
      " 583  28 976 440 141  35 876  15 140 325 118 261 716 329 542  10 209 426\n",
      " 730  82 755 573  84 765 832  73 939 310 455 692 655 901 886 778 761 125\n",
      " 592 866 498 741 225 201 572 466  87 437 777 326 736 759 646 881 369 738\n",
      " 555 812 547   9 874 850 566 174 259 902 926 929 396 501 336 926 966 504\n",
      " 903 415 344 132 635 668 316 122 552 487 467 800 543 156 612 295 260 312\n",
      " 284 678 944 661 351 968 932 560 101 998 547 874 265 303 932 860 613 214\n",
      " 136 125 328 985 693 950 378 655  16 238 180 593 553 547 274 217 369 155\n",
      " 643 189 706 386 864 673  68 981 987 853 673 909  93 783 612  54 399  77\n",
      " 609 375 433  91 412  20 490 485 842 386 836 743  88 167 266  47 210  86\n",
      " 804  17 643 227 629 402 293 928 657 631 675 206  16 589 485 687 544  70\n",
      " 147 580 109 391 122 948  34 200 608 952 126 236 450 451  76 760 329 184\n",
      " 162 791 220 233 753 225 720   4 570 464 264 286 500 242 841 759 357 149\n",
      " 681 416 476 772 785 274 711 776 666 781 850 312 315 958 226 162  61 126\n",
      " 206 368 154 130 843 939 916 960 488 471 578 308  73 963 585 214 586  43\n",
      " 636 804 192 889 573 247 640 758  50 668 659 358 667 775 279  37 430 756\n",
      " 942 945 721 971 546 307 930 438 895 836 998  70 878 194 528 705 157  88\n",
      " 355 979  80 867  37 760 134 830 729 396 206 191 130 845 296 770 787 392\n",
      " 479 769 705 882 272 938 668 456 555 975  83 289 384  90  69 188 613 933\n",
      " 436 115 725 334 151 528 505 243 169 643 999 631 973 451 185 362 860 391\n",
      " 175  35 976  70 399 206 919 541 972 236 265 382 851 619 949 679 725 696\n",
      " 524 193 344 363 379 573 937 604 491 189 946  53 419 273 172 966 181 613\n",
      " 965 549 109 599 532 551 119 495 365 402 766 366 848 102 539 346 299  17\n",
      " 443 935 272 213 749 812 827 568 935 484 894 995 372 137 290  14 400 177\n",
      " 312 308 722  43 162 344 805 957 272 296 128 400 933 420 671 466 527 528\n",
      " 138 278  88   9 809 202 248 153 239 384 174 334 132 560 626 944 221 784\n",
      " 607 148   3 633 956 927 991 919 520 757  53 588 347 577 160 236 673 439\n",
      "  51 938 514 744  68 489 644  73 383 779 373 519 911 346 539 334 625 322\n",
      " 568 429 658 364 112  37 328 982 547 878 589 573 579 900 596 578 291 742\n",
      " 352 741 737 560 812 636   4 674 782 981 263 616 571 759  68 925 480  71\n",
      " 204 972 674 457 976 746 650 957  32 389 250 639 956 144 764 151 592 272\n",
      " 607 894 927 491 598 717 677 227 766 291 827 482 211 557 519 521 424 343\n",
      " 320 238 408 868 248 563 607 102 466  39 785 136 788  63 788 297 527 312\n",
      " 236 125 241 258 456 344 382 807 751 587 283 339 161 514 915 105 482 586\n",
      " 742 639 744  99 263 586 994  41 808 146  93 707 598 810 732 415 690 589\n",
      " 306 314 443 870 299 474 819   2 398 565]\n",
      "Length of Input: 1000\n",
      "Finding #: 88\n",
      "Element is present at index 534\n",
      "Frequency Count: 535\n",
      "[1733 1346 9797 ..., 2984 9588 5716]\n",
      "Length of Input: 10000\n",
      "Finding #: 516\n",
      "Element is present at index 7437\n",
      "Frequency Count: 7438\n",
      "[19821 43619  4085 ..., 13512 31716 31413]\n",
      "Length of Input: 50000\n",
      "Finding #: 22655\n",
      "Element is not present in array\n",
      "Frequency Count: 50000\n",
      "[29067 81305 32311 ..., 33451 13013 67035]\n",
      "Length of Input: 100000\n",
      "Finding #: 3384\n",
      "Element is present at index 36287\n",
      "Frequency Count: 36288\n",
      "[ 80188 141906  30485 ..., 112316 115510  30149]\n",
      "Length of Input: 150000\n",
      "Finding #: 62383\n",
      "Element is not present in array\n",
      "Frequency Count: 150000\n",
      "[181677 169456  60695 ..., 144668 184672 160992]\n",
      "Length of Input: 200000\n",
      "Finding #: 26719\n",
      "Element is not present in array\n",
      "Frequency Count: 200000\n",
      "[196015  62792 256136 ...,  63022 165516   2697]\n",
      "Length of Input: 300000\n",
      "Finding #: 130262\n",
      "Element is present at index 197007\n",
      "Frequency Count: 197008\n",
      "[391102 390703 218802 ..., 147055 264309  93434]\n",
      "Length of Input: 400000\n",
      "Finding #: 81536\n",
      "Element is present at index 300734\n",
      "Frequency Count: 300735\n",
      "[234507  32154 144397 ..., 366449 247483 311389]\n",
      "Length of Input: 500000\n",
      "Finding #: 61701\n",
      "Element is present at index 300439\n",
      "Frequency Count: 300440\n",
      "[691880 817302 907830 ..., 816358 610541 419384]\n",
      "Length of Input: 1000000\n",
      "Finding #: 207078\n",
      "Element is not present in array\n",
      "Frequency Count: 1000000\n",
      "[ 154945  300897 1287309 ...,  149183   54163 1081830]\n",
      "Length of Input: 1500000\n",
      "Finding #: 4775\n",
      "Element is not present in array\n",
      "Frequency Count: 1500000\n"
     ]
    }
   ],
   "source": [
    "# Test growth of the linear function\n",
    "increments = [100, 1000, 10000, 50000, 100000, 150000, 200000, 300000, 400000, 500000, 1000000, 1500000]\n",
    "\n",
    "for i in increments :\n",
    "    \n",
    "    ren = i + 1\n",
    "    arr = np.random.randint(1, ren, i)\n",
    "\n",
    "    x = np.random.randint(1, i/2)\n",
    "    n = len(arr)\n",
    "\n",
    "    print(arr)\n",
    "    print(\"Length of Input: \" + str(n))\n",
    "    print('Finding #: ' + str(x))\n",
    "    frequency = 0\n",
    "    result = linear_search(arr, n, x) \n",
    "    if(result == -1): \n",
    "        print(\"Element is not present in array\") \n",
    "    else: \n",
    "        print(\"Element is present at index\", result); \n",
    "\n",
    "    print(\"Frequency Count: \" + str(frequency))\n",
    "\n",
    "    df_linear = df_linear.append({'input_size' : n, 'frequency' : frequency, 'element_index' : result}, ignore_index=True)"
   ]
  },
  {
   "cell_type": "code",
   "execution_count": 13,
   "metadata": {},
   "outputs": [
    {
     "data": {
      "text/html": [
       "<div>\n",
       "<style>\n",
       "    .dataframe thead tr:only-child th {\n",
       "        text-align: right;\n",
       "    }\n",
       "\n",
       "    .dataframe thead th {\n",
       "        text-align: left;\n",
       "    }\n",
       "\n",
       "    .dataframe tbody tr th {\n",
       "        vertical-align: top;\n",
       "    }\n",
       "</style>\n",
       "<table border=\"1\" class=\"dataframe\">\n",
       "  <thead>\n",
       "    <tr style=\"text-align: right;\">\n",
       "      <th></th>\n",
       "      <th>input_size</th>\n",
       "      <th>frequency</th>\n",
       "      <th>element_index</th>\n",
       "    </tr>\n",
       "  </thead>\n",
       "  <tbody>\n",
       "    <tr>\n",
       "      <th>0</th>\n",
       "      <td>100</td>\n",
       "      <td>25</td>\n",
       "      <td>24</td>\n",
       "    </tr>\n",
       "    <tr>\n",
       "      <th>1</th>\n",
       "      <td>1000</td>\n",
       "      <td>535</td>\n",
       "      <td>534</td>\n",
       "    </tr>\n",
       "    <tr>\n",
       "      <th>2</th>\n",
       "      <td>10000</td>\n",
       "      <td>7438</td>\n",
       "      <td>7437</td>\n",
       "    </tr>\n",
       "    <tr>\n",
       "      <th>3</th>\n",
       "      <td>50000</td>\n",
       "      <td>50000</td>\n",
       "      <td>-1</td>\n",
       "    </tr>\n",
       "    <tr>\n",
       "      <th>4</th>\n",
       "      <td>100000</td>\n",
       "      <td>36288</td>\n",
       "      <td>36287</td>\n",
       "    </tr>\n",
       "    <tr>\n",
       "      <th>5</th>\n",
       "      <td>150000</td>\n",
       "      <td>150000</td>\n",
       "      <td>-1</td>\n",
       "    </tr>\n",
       "    <tr>\n",
       "      <th>6</th>\n",
       "      <td>200000</td>\n",
       "      <td>200000</td>\n",
       "      <td>-1</td>\n",
       "    </tr>\n",
       "    <tr>\n",
       "      <th>7</th>\n",
       "      <td>300000</td>\n",
       "      <td>197008</td>\n",
       "      <td>197007</td>\n",
       "    </tr>\n",
       "    <tr>\n",
       "      <th>8</th>\n",
       "      <td>400000</td>\n",
       "      <td>300735</td>\n",
       "      <td>300734</td>\n",
       "    </tr>\n",
       "    <tr>\n",
       "      <th>9</th>\n",
       "      <td>500000</td>\n",
       "      <td>300440</td>\n",
       "      <td>300439</td>\n",
       "    </tr>\n",
       "    <tr>\n",
       "      <th>10</th>\n",
       "      <td>1000000</td>\n",
       "      <td>1000000</td>\n",
       "      <td>-1</td>\n",
       "    </tr>\n",
       "    <tr>\n",
       "      <th>11</th>\n",
       "      <td>1500000</td>\n",
       "      <td>1500000</td>\n",
       "      <td>-1</td>\n",
       "    </tr>\n",
       "  </tbody>\n",
       "</table>\n",
       "</div>"
      ],
      "text/plain": [
       "   input_size frequency element_index\n",
       "0         100        25            24\n",
       "1        1000       535           534\n",
       "2       10000      7438          7437\n",
       "3       50000     50000            -1\n",
       "4      100000     36288         36287\n",
       "5      150000    150000            -1\n",
       "6      200000    200000            -1\n",
       "7      300000    197008        197007\n",
       "8      400000    300735        300734\n",
       "9      500000    300440        300439\n",
       "10    1000000   1000000            -1\n",
       "11    1500000   1500000            -1"
      ]
     },
     "execution_count": 13,
     "metadata": {},
     "output_type": "execute_result"
    }
   ],
   "source": [
    "df_linear"
   ]
  },
  {
   "cell_type": "code",
   "execution_count": 14,
   "metadata": {},
   "outputs": [
    {
     "data": {
      "image/png": "[encoded data removed]",
      "text/plain": [
       "<matplotlib.figure.Figure at 0x1bbd457f048>"
      ]
     },
     "metadata": {},
     "output_type": "display_data"
    }
   ],
   "source": [
    "ax = plt.gca()\n",
    "df_linear.plot(kind='line',x='input_size',y='frequency',ax=ax)\n",
    "plt.show()"
   ]
  },
  {
   "cell_type": "code",
   "execution_count": null,
   "metadata": {
    "collapsed": true
   },
   "outputs": [],
   "source": []
  }
 ],
 "metadata": {
  "kernelspec": {
   "display_name": "Python 3",
   "language": "python",
   "name": "python3"
  },
  "language_info": {
   "codemirror_mode": {
    "name": "ipython",
    "version": 3
   },
   "file_extension": ".py",
   "mimetype": "text/x-python",
   "name": "python",
   "nbconvert_exporter": "python",
   "pygments_lexer": "ipython3",
   "version": "3.6.2"
  }
 },
 "nbformat": 4,
 "nbformat_minor": 2
}
